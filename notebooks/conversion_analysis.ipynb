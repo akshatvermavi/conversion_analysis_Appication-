{
 "cells": [
  {
   "cell_type": "code",
   "execution_count": null,
   "id": "0462bbc7",
   "metadata": {
    "vscode": {
     "languageId": "plaintext"
    }
   },
   "outputs": [],
   "source": [
    "import pandas as pd\n",
    "import matplotlib.pyplot as plt\n",
    "import seaborn as sns\n",
    "\n",
    "# Load Data\n",
    "df = pd.read_csv('data/store_sku_ba_dataset.csv')\n",
    "\n",
    "# Conversion Rate Calculation\n",
    "df['Conversion Rate'] = df['Transactions'] / df['Total Visits']\n",
    "\n",
    "# Store-Level Conversion\n",
    "store_conv = df.groupby('Store ID').agg({\n",
    "    'Total Visits': 'sum',\n",
    "    'Transactions': 'sum',\n",
    "    'Revenue': 'sum'\n",
    "})\n",
    "store_conv['Conversion Rate'] = store_conv['Transactions'] / store_conv['Total Visits']\n",
    "store_conv = store_conv.sort_values('Conversion Rate', ascending=False)\n",
    "\n",
    "# SKU-Level Conversion\n",
    "sku_conv = df.groupby('SKU ID').agg({\n",
    "    'Total Visits': 'sum',\n",
    "    'Transactions': 'sum',\n",
    "    'Revenue': 'sum'\n",
    "})\n",
    "sku_conv['Conversion Rate'] = sku_conv['Transactions'] / sku_conv['Total Visits']\n",
    "sku_conv = sku_conv.sort_values('Conversion Rate', ascending=False)\n",
    "\n",
    "# Visualizations\n",
    "sns.barplot(x=store_conv.head(10).index, y=store_conv['Conversion Rate'].head(10))\n",
    "plt.title(\"Top 10 Performing Stores by Conversion Rate\")\n",
    "plt.xticks(rotation=45)\n",
    "plt.tight_layout()\n",
    "plt.savefig('outputs/charts/top_stores.png')\n",
    "\n",
    "sns.barplot(x=sku_conv.head(10).index, y=sku_conv['Conversion Rate'].head(10))\n",
    "plt.title(\"Top 10 Performing SKUs by Conversion Rate\")\n",
    "plt.xticks(rotation=45)\n",
    "plt.tight_layout()\n",
    "plt.savefig('outputs/charts/top_skus.png')\n"
   ]
  }
 ],
 "metadata": {
  "language_info": {
   "name": "python"
  }
 },
 "nbformat": 4,
 "nbformat_minor": 5
}
